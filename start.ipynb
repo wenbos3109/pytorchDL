{
  "nbformat": 4,
  "nbformat_minor": 0,
  "metadata": {
    "colab": {
      "name": "start.ipynb",
      "provenance": [],
      "collapsed_sections": [],
      "authorship_tag": "ABX9TyP5ELMeGXxTyYc7WmZhkGrE",
      "include_colab_link": true
    },
    "kernelspec": {
      "name": "python3",
      "display_name": "Python 3"
    },
    "accelerator": "GPU"
  },
  "cells": [
    {
      "cell_type": "markdown",
      "metadata": {
        "id": "view-in-github",
        "colab_type": "text"
      },
      "source": [
        "<a href=\"https://colab.research.google.com/github/wenbos3109/pytorchDL/blob/main/start.ipynb\" target=\"_parent\"><img src=\"https://colab.research.google.com/assets/colab-badge.svg\" alt=\"Open In Colab\"/></a>"
      ]
    },
    {
      "cell_type": "code",
      "metadata": {
        "id": "LyQE2HwsGT8j"
      },
      "source": [
        "import torch\n",
        "import torchvision\n",
        "import numpy as np"
      ],
      "execution_count": 1,
      "outputs": []
    },
    {
      "cell_type": "code",
      "metadata": {
        "colab": {
          "base_uri": "https://localhost:8080/"
        },
        "id": "mAmozekGIbEv",
        "outputId": "9d2bc9d8-6cf1-47d0-cf27-1a71799ee661"
      },
      "source": [
        "torch.cuda.is_available()"
      ],
      "execution_count": 2,
      "outputs": [
        {
          "output_type": "execute_result",
          "data": {
            "text/plain": [
              "True"
            ]
          },
          "metadata": {
            "tags": []
          },
          "execution_count": 2
        }
      ]
    },
    {
      "cell_type": "code",
      "metadata": {
        "id": "YwwZwJQMIe_o"
      },
      "source": [
        "data = torch.tensor([[1, 2], [3, 4]])"
      ],
      "execution_count": 3,
      "outputs": []
    },
    {
      "cell_type": "code",
      "metadata": {
        "colab": {
          "base_uri": "https://localhost:8080/"
        },
        "id": "W5zjI2muI5_9",
        "outputId": "6f396f0b-d426-40a4-87fd-16d9ef4b18ac"
      },
      "source": [
        "data.numpy()"
      ],
      "execution_count": 4,
      "outputs": [
        {
          "output_type": "execute_result",
          "data": {
            "text/plain": [
              "array([[1, 2],\n",
              "       [3, 4]])"
            ]
          },
          "metadata": {
            "tags": []
          },
          "execution_count": 4
        }
      ]
    },
    {
      "cell_type": "code",
      "metadata": {
        "colab": {
          "base_uri": "https://localhost:8080/"
        },
        "id": "ygW1zts_I8z-",
        "outputId": "7afe7fee-ded5-4723-b389-ea4f98edd61f"
      },
      "source": [
        "x = torch.ones_like(data)\n",
        "x"
      ],
      "execution_count": 6,
      "outputs": [
        {
          "output_type": "execute_result",
          "data": {
            "text/plain": [
              "tensor([[1, 1],\n",
              "        [1, 1]])"
            ]
          },
          "metadata": {
            "tags": []
          },
          "execution_count": 6
        }
      ]
    },
    {
      "cell_type": "code",
      "metadata": {
        "colab": {
          "base_uri": "https://localhost:8080/"
        },
        "id": "ZfaUmucvJAw7",
        "outputId": "7482df89-492a-4168-9b9f-5fa249eb2112"
      },
      "source": [
        "print(x.shape, x.requires_grad, x.dtype)"
      ],
      "execution_count": 7,
      "outputs": [
        {
          "output_type": "stream",
          "text": [
            "torch.Size([2, 2]) False torch.int64\n"
          ],
          "name": "stdout"
        }
      ]
    },
    {
      "cell_type": "code",
      "metadata": {
        "colab": {
          "base_uri": "https://localhost:8080/"
        },
        "id": "ZInlF0V-JGRs",
        "outputId": "2937d274-429f-45b6-be86-edcc1cf85a87"
      },
      "source": [
        "x.reshape(-1)"
      ],
      "execution_count": 8,
      "outputs": [
        {
          "output_type": "execute_result",
          "data": {
            "text/plain": [
              "tensor([1, 1, 1, 1])"
            ]
          },
          "metadata": {
            "tags": []
          },
          "execution_count": 8
        }
      ]
    },
    {
      "cell_type": "code",
      "metadata": {
        "colab": {
          "base_uri": "https://localhost:8080/"
        },
        "id": "xO_oilh0JHy3",
        "outputId": "3722fc7b-5407-48ad-b9eb-22696dfdfab6"
      },
      "source": [
        "x.view(-1)"
      ],
      "execution_count": 9,
      "outputs": [
        {
          "output_type": "execute_result",
          "data": {
            "text/plain": [
              "tensor([1, 1, 1, 1])"
            ]
          },
          "metadata": {
            "tags": []
          },
          "execution_count": 9
        }
      ]
    },
    {
      "cell_type": "code",
      "metadata": {
        "colab": {
          "base_uri": "https://localhost:8080/"
        },
        "id": "LUwBvJ85JLOi",
        "outputId": "96622590-6c3e-4c0c-a176-c25f8c1ca9cd"
      },
      "source": [
        "x.mul(x)"
      ],
      "execution_count": 11,
      "outputs": [
        {
          "output_type": "execute_result",
          "data": {
            "text/plain": [
              "tensor([[1, 1],\n",
              "        [1, 1]])"
            ]
          },
          "metadata": {
            "tags": []
          },
          "execution_count": 11
        }
      ]
    },
    {
      "cell_type": "code",
      "metadata": {
        "colab": {
          "base_uri": "https://localhost:8080/"
        },
        "id": "zOLy5CQOJPbl",
        "outputId": "e0ed9561-3064-4ebc-e3fc-8ba75dc3ae15"
      },
      "source": [
        "import math\n",
        "dtype = torch.float\n",
        "device = torch.device(\"cpu\")\n",
        "# device = torch.device(\"cuda:0\") # Uncomment this to run on GPU\n",
        "\n",
        "# Create random input and output data\n",
        "x = torch.linspace(-math.pi, math.pi, 2000, device=device, dtype=dtype)\n",
        "y = torch.sin(x)\n",
        "\n",
        "a = torch.randn((), device=device, dtype=dtype)\n",
        "b = torch.randn((), device=device, dtype=dtype)\n",
        "c = torch.randn((), device=device, dtype=dtype)\n",
        "d = torch.randn((), device=device, dtype=dtype)\n",
        "\n",
        "learning_rate = 1e-6\n",
        "for t in range(2000):\n",
        "    # Forward pass: compute predicted y\n",
        "    # y = a + b x + c x^2 + d x^3\n",
        "    y_pred = a + b * x + c * x ** 2 + d * x ** 3\n",
        "\n",
        "    loss = (y_pred - y).pow(2).sum().item()\n",
        "    if t % 100 == 99:\n",
        "      print(t, loss)\n",
        "    \n",
        "    grad_y_pred = 2.0 * (y_pred - y)\n",
        "    grad_a = grad_y_pred.sum()\n",
        "    grad_b = (grad_y_pred * x).sum()\n",
        "    grad_c = (grad_y_pred * x ** 2).sum()\n",
        "    grad_d = (grad_y_pred * x ** 3).sum()\n",
        "\n",
        "    a -= learning_rate * grad_a\n",
        "    b -= learning_rate * grad_b\n",
        "    c -= learning_rate * grad_c\n",
        "    d -= learning_rate * grad_d\n",
        "\n",
        "print(f'Result: y = {a.item()} + {b.item()} x + {c.item()} x^2 + {d.item()} x^3')"
      ],
      "execution_count": 82,
      "outputs": [
        {
          "output_type": "stream",
          "text": [
            "99 2079.589111328125\n",
            "199 1474.0787353515625\n",
            "299 1045.628173828125\n",
            "399 742.4638671875\n",
            "499 527.9478149414062\n",
            "599 376.1571044921875\n",
            "699 268.75030517578125\n",
            "799 192.74893188476562\n",
            "899 138.969970703125\n",
            "999 100.9156723022461\n",
            "1099 73.98798370361328\n",
            "1199 54.93352127075195\n",
            "1299 41.45024490356445\n",
            "1399 31.909210205078125\n",
            "1499 25.157739639282227\n",
            "1599 20.38025665283203\n",
            "1699 16.99958038330078\n",
            "1799 14.607305526733398\n",
            "1899 12.914473533630371\n",
            "1999 11.716568946838379\n",
            "Result: y = -0.05698472633957863 + 0.8557221293449402 x + 0.00983081292361021 x^2 + -0.09318549185991287 x^3\n"
          ],
          "name": "stdout"
        }
      ]
    },
    {
      "cell_type": "code",
      "metadata": {
        "colab": {
          "base_uri": "https://localhost:8080/",
          "height": 282
        },
        "id": "LUg7Ir8yTUQE",
        "outputId": "a9cff629-b8a7-44a5-ea38-1b787753454d"
      },
      "source": [
        "import matplotlib.pyplot as plt\n",
        "\n",
        "y_pred = a + b * x + c * x ** 2 + d * x ** 3\n",
        "plt.plot(x, y_pred, 'b--')\n",
        "plt.plot(x, y, 'r-')"
      ],
      "execution_count": 83,
      "outputs": [
        {
          "output_type": "execute_result",
          "data": {
            "text/plain": [
              "[<matplotlib.lines.Line2D at 0x7fdb2166c0f0>]"
            ]
          },
          "metadata": {
            "tags": []
          },
          "execution_count": 83
        },
        {
          "output_type": "display_data",
          "data": {
            "image/png": "[encoded data removed]",
            "text/plain": [
              "<Figure size 432x288 with 1 Axes>"
            ]
          },
          "metadata": {
            "tags": [],
            "needs_background": "light"
          }
        }
      ]
    },
    {
      "cell_type": "code",
      "metadata": {
        "colab": {
          "base_uri": "https://localhost:8080/",
          "height": 317
        },
        "id": "lG7aoM4qTjv8",
        "outputId": "614efef2-0d56-4a59-ca8a-937bfe1be4cd"
      },
      "source": [
        "x = torch.linspace(-math.pi, math.pi, 2000, device=device, dtype=dtype)\n",
        "y = torch.sin(x)\n",
        "\n",
        "a = torch.randn((), device=device, dtype=dtype, requires_grad=True)\n",
        "b = torch.randn((), device=device, dtype=dtype, requires_grad=True)\n",
        "c = torch.randn((), device=device, dtype=dtype, requires_grad=True)\n",
        "d = torch.randn((), device=device, dtype=dtype, requires_grad=True)\n",
        "learning_rate = 1e-6\n",
        "for t in range(2000):\n",
        "    # Forward pass: compute predicted y\n",
        "    # y = a + b x + c x^2 + d x^3\n",
        "    y_pred = a + b * x + c * x ** 2 + d * x ** 3\n",
        "\n",
        "    loss = (y_pred - y).pow(2).sum()\n",
        "    if t % 100 == 199:\n",
        "      print(t, loss)\n",
        "    loss.backward()\n",
        "    with torch.no_grad():\n",
        "      a -= learning_rate * a.grad\n",
        "      b -= learning_rate * b.grad\n",
        "      c -= learning_rate * c.grad\n",
        "      d -= learning_rate * d.grad\n",
        "\n",
        "      # Manually zero the gradients after updating weights\n",
        "      a.grad = None\n",
        "      b.grad = None\n",
        "      c.grad = None\n",
        "      d.grad = None\n",
        "\n",
        "print(f'Result: y = {a.item()} + {b.item()} x + {c.item()} x^2 + {d.item()} x^3')\n",
        "y_pred = a + b * x + c * x ** 2 + d * x ** 3\n",
        "print(type(x), type(y_pred), x.shape, y_pred.shape)\n",
        "plt.plot(x, y_pred.detach().numpy(), 'b--')\n",
        "plt.plot(x, y, 'r-')"
      ],
      "execution_count": 105,
      "outputs": [
        {
          "output_type": "stream",
          "text": [
            "Result: y = -0.00440260162577033 + 0.8346083760261536 x + 0.0007595233619213104 x^2 + -0.09018223732709885 x^3\n",
            "<class 'torch.Tensor'> <class 'torch.Tensor'> torch.Size([2000]) torch.Size([2000])\n"
          ],
          "name": "stdout"
        },
        {
          "output_type": "execute_result",
          "data": {
            "text/plain": [
              "[<matplotlib.lines.Line2D at 0x7fdb20b74dd8>]"
            ]
          },
          "metadata": {
            "tags": []
          },
          "execution_count": 105
        },
        {
          "output_type": "display_data",
          "data": {
            "image/png": "[encoded data removed]",
            "text/plain": [
              "<Figure size 432x288 with 1 Axes>"
            ]
          },
          "metadata": {
            "tags": [],
            "needs_background": "light"
          }
        }
      ]
    },
    {
      "cell_type": "markdown",
      "metadata": {
        "id": "8T-kj7LHJUoz"
      },
      "source": [
        "# Auto grad"
      ]
    },
    {
      "cell_type": "markdown",
      "metadata": {
        "id": "yA8zuDtIJbRB"
      },
      "source": [
        "$$Q=3a^3-b^2$$\n",
        "\n",
        "\\begin{equation}\n",
        "\\begin{array}{l}\n",
        "\\frac{\\partial Q}{\\partial a}=9 a^{2} \\\\\n",
        "\\frac{\\partial Q}{\\partial b}=-2 b\n",
        "\\end{array}\n",
        "\\end{equation}\n",
        "\n"
      ]
    },
    {
      "cell_type": "code",
      "metadata": {
        "id": "c7m5BwqxJgSw"
      },
      "source": [
        "a = torch.tensor([2., 3.], requires_grad=True)\n",
        "b = torch.tensor([6., 4.], requires_grad=True)\n",
        "q = 3* a **3 - b ** 2"
      ],
      "execution_count": 12,
      "outputs": []
    },
    {
      "cell_type": "code",
      "metadata": {
        "id": "R5qGfOnDJxbN"
      },
      "source": [
        "q.backward(torch.tensor([1., 1.]))"
      ],
      "execution_count": 13,
      "outputs": []
    },
    {
      "cell_type": "code",
      "metadata": {
        "colab": {
          "base_uri": "https://localhost:8080/"
        },
        "id": "f_BG7OY1J29H",
        "outputId": "bda644be-c4cd-42e9-c3df-e4a3bdba60ba"
      },
      "source": [
        "print(a.grad == 9 * a ** 2, b.grad == -2 * b)"
      ],
      "execution_count": 15,
      "outputs": [
        {
          "output_type": "stream",
          "text": [
            "tensor([True, True]) tensor([True, True])\n"
          ],
          "name": "stdout"
        }
      ]
    },
    {
      "cell_type": "markdown",
      "metadata": {
        "id": "7yl3TDS9KF_b"
      },
      "source": [
        "\n",
        "### Vector calculus \n",
        "The $y$ corresponds to this $x$\n",
        "\\begin{align*}\n",
        "J&=\\left(\\begin{array}{ccc}\n",
        "\\frac{\\partial \\mathbf{y}}{\\partial x_{1}} & \\ldots & \\frac{\\partial \\mathbf{y}}{\\partial x_{n}}\n",
        "\\end{array}\\right)=\\left(\\begin{array}{ccc}\n",
        "\\frac{\\partial y_{1}}{\\partial x_{1}} & \\cdots & \\frac{\\partial y_{1}}{\\partial x_{n}} \\\\\n",
        "\\vdots & \\ddots & \\vdots \\\\\n",
        "\\frac{\\partial y_{m}}{\\partial x_{1}} & \\cdots & \\frac{\\partial y_{m}}{\\partial x_{n}}\n",
        "\\end{array}\\right)\\\\\n",
        "l&=g(\\vec{y})=\\left(\\begin{array}{ccc}\n",
        "\\frac{\\partial l}{\\partial y_{1}} & \\cdots & \\frac{\\partial l}{\\partial y_{m}}\n",
        "\\end{array}\\right)^{T}\\\\\n",
        "J^{T} \\cdot \\vec{v}&=\\left(\\begin{array}{ccc}\n",
        "\\frac{\\partial y_{1}}{\\partial x_{1}} & \\cdots & \\frac{\\partial y_{m}}{\\partial x_{1}} \\\\\n",
        "\\vdots & \\ddots & \\vdots \\\\\n",
        "\\frac{\\partial y_{1}}{\\partial x_{n}} & \\cdots & \\frac{\\partial y_{m}}{\\partial x_{n}}\n",
        "\\end{array}\\right)\\left(\\begin{array}{c}\n",
        "\\frac{\\partial l}{\\partial y_{1}} \\\\\n",
        "\\vdots \\\\\n",
        "\\frac{\\partial l}{\\partial y_{m}}\n",
        "\\end{array}\\right)=\\left(\\begin{array}{c}\n",
        "\\frac{\\partial l}{\\partial x_{1}} \\\\\n",
        "\\vdots \\\\\n",
        "\\frac{\\partial l}{\\partial x_{n}}\n",
        "\\end{array}\\right)\n",
        "\\end{align*}\n"
      ]
    },
    {
      "cell_type": "code",
      "metadata": {
        "id": "tukL0qtRKMEE"
      },
      "source": [
        "x = torch.rand(5, 5)\n",
        "y = torch.rand(5, 5)\n",
        "z = torch.rand((5, 5), requires_grad=True)"
      ],
      "execution_count": 16,
      "outputs": []
    },
    {
      "cell_type": "code",
      "metadata": {
        "colab": {
          "base_uri": "https://localhost:8080/"
        },
        "id": "LxzTffubMhtf",
        "outputId": "c9f89c22-496c-4846-a642-dfe37ac3f8c6"
      },
      "source": [
        "a = x + y\n",
        "print(f\"Does `a` require gradients? : {a.requires_grad}\")\n",
        "b = x + z\n",
        "print(f\"Does `b` require gradients?: {b.requires_grad}\")"
      ],
      "execution_count": 17,
      "outputs": [
        {
          "output_type": "stream",
          "text": [
            "Does `a` require gradients? : False\n",
            "Does `b` require gradients?: True\n"
          ],
          "name": "stdout"
        }
      ]
    },
    {
      "cell_type": "code",
      "metadata": {
        "id": "o2p6HLzDMnNx"
      },
      "source": [
        ""
      ],
      "execution_count": null,
      "outputs": []
    },
    {
      "cell_type": "markdown",
      "metadata": {
        "id": "ebLUkNO1SL9Q"
      },
      "source": [
        "### With examples"
      ]
    },
    {
      "cell_type": "code",
      "metadata": {
        "id": "yHFz2OIJSNqo"
      },
      "source": [
        "x = torch.linspace(-math.pi, math.pi, 2000)\n",
        "y = torch.sin(x)"
      ],
      "execution_count": 129,
      "outputs": []
    },
    {
      "cell_type": "code",
      "metadata": {
        "colab": {
          "base_uri": "https://localhost:8080/"
        },
        "id": "gbrMfKyJWUQe",
        "outputId": "42df2c68-a088-472d-b5e6-dbc8460e9b44"
      },
      "source": [
        "a = torch.tensor([1,2,3])\n",
        "a.pow(torch.tensor([1, 2, 3]))"
      ],
      "execution_count": 130,
      "outputs": [
        {
          "output_type": "execute_result",
          "data": {
            "text/plain": [
              "tensor([ 1,  4, 27])"
            ]
          },
          "metadata": {
            "tags": []
          },
          "execution_count": 130
        }
      ]
    },
    {
      "cell_type": "code",
      "metadata": {
        "colab": {
          "base_uri": "https://localhost:8080/"
        },
        "id": "wz9kP8GrWMWN",
        "outputId": "4c4baaf4-86e3-4c38-d1ef-3a2f696b0c36"
      },
      "source": [
        "# tensor (x, x^2, x^3).\n",
        "p = torch.tensor([1, 2, 3])\n",
        "xx = x.unsqueeze(-1).pow(p)\n",
        "print(xx)"
      ],
      "execution_count": 131,
      "outputs": [
        {
          "output_type": "stream",
          "text": [
            "tensor([[ -3.1416,   9.8696, -31.0063],\n",
            "        [ -3.1384,   9.8499, -30.9133],\n",
            "        [ -3.1353,   9.8301, -30.8205],\n",
            "        ...,\n",
            "        [  3.1353,   9.8301,  30.8205],\n",
            "        [  3.1384,   9.8499,  30.9133],\n",
            "        [  3.1416,   9.8696,  31.0063]])\n"
          ],
          "name": "stdout"
        }
      ]
    },
    {
      "cell_type": "code",
      "metadata": {
        "id": "poQFjRJaWRME"
      },
      "source": [
        "model = torch.nn.Sequential(\n",
        "    torch.nn.Linear(3, 1),\n",
        "    torch.nn.Flatten(0, 1)\n",
        ")"
      ],
      "execution_count": 132,
      "outputs": []
    },
    {
      "cell_type": "code",
      "metadata": {
        "colab": {
          "base_uri": "https://localhost:8080/"
        },
        "id": "BZiorecNZVEH",
        "outputId": "61f0a0b7-ea34-49dc-f3f8-30b95099947c"
      },
      "source": [
        "for param in model.parameters():\n",
        "  print(param.shape)"
      ],
      "execution_count": 138,
      "outputs": [
        {
          "output_type": "stream",
          "text": [
            "torch.Size([1, 3])\n",
            "torch.Size([1])\n"
          ],
          "name": "stdout"
        }
      ]
    },
    {
      "cell_type": "code",
      "metadata": {
        "colab": {
          "base_uri": "https://localhost:8080/"
        },
        "id": "aSNQsMrkW9QC",
        "outputId": "b7272091-b84f-4d74-d112-187dab9e8ccb"
      },
      "source": [
        "t = torch.tensor([[[1, 2],\n",
        "                    [3, 4]],\n",
        "                    [[5, 6],\n",
        "                    [7, 8]]])\n",
        "print(t.shape)"
      ],
      "execution_count": 133,
      "outputs": [
        {
          "output_type": "stream",
          "text": [
            "torch.Size([2, 2, 2])\n"
          ],
          "name": "stdout"
        }
      ]
    },
    {
      "cell_type": "code",
      "metadata": {
        "colab": {
          "base_uri": "https://localhost:8080/"
        },
        "id": "0zjIW5EHW8dk",
        "outputId": "eac95814-2819-401b-8a0d-b7ba7fec495a"
      },
      "source": [
        "t_flat = nn.Flatten(start_dim=1, end_dim=-1)(t)\n",
        "print(t_flat, t_flat.shape)"
      ],
      "execution_count": 134,
      "outputs": [
        {
          "output_type": "stream",
          "text": [
            "tensor([[1, 2, 3, 4],\n",
            "        [5, 6, 7, 8]]) torch.Size([2, 4])\n"
          ],
          "name": "stdout"
        }
      ]
    },
    {
      "cell_type": "code",
      "metadata": {
        "id": "vjaGV9JiWmjo"
      },
      "source": [
        "loss_fn = torch.nn.MSELoss(reduction='sum')"
      ],
      "execution_count": 135,
      "outputs": []
    },
    {
      "cell_type": "code",
      "metadata": {
        "id": "vKc3FoeOWnZy"
      },
      "source": [
        "learning_rate = 1e-6"
      ],
      "execution_count": 136,
      "outputs": []
    },
    {
      "cell_type": "code",
      "metadata": {
        "colab": {
          "base_uri": "https://localhost:8080/"
        },
        "id": "f4ICVg5tXf8u",
        "outputId": "ff08657c-cd21-4c74-a53d-98b4312a175c"
      },
      "source": [
        "for t in range(2000):\n",
        "    y_pred = model(xx)\n",
        "    loss = loss_fn(y_pred, y)\n",
        "    if t % 199 == 0:\n",
        "        print(t, loss.item())\n",
        "    with torch.no_grad():\n",
        "        for param in model.parameters():\n",
        "            param -= learning_rate * param.grad\n",
        "\n",
        "linear_layer = model[0]\n",
        "# For linear layer, its parameters are stored as `weight` and `bias`.\n",
        "print(f'Result: y = {linear_layer.bias.item()} + {linear_layer.weight[:, 0].item()} x + {linear_layer.weight[:, 1].item()} x^2 + {linear_layer.weight[:, 2].item()} x^3')"
      ],
      "execution_count": 142,
      "outputs": [
        {
          "output_type": "stream",
          "text": [
            "0 9.353668212890625\n",
            "199 9.031881332397461\n",
            "398 8.856672286987305\n",
            "597 8.828039169311523\n",
            "796 8.945984840393066\n",
            "995 9.210506439208984\n",
            "1194 9.621606826782227\n",
            "1393 10.179285049438477\n",
            "1592 10.883552551269531\n",
            "1791 11.734416007995605\n",
            "1990 12.73186206817627\n",
            "Result: y = -0.04857415705919266 + 0.8988654017448425 x + 0.008379936218261719 x^2 + -0.09931813925504684 x^3\n"
          ],
          "name": "stdout"
        }
      ]
    },
    {
      "cell_type": "markdown",
      "metadata": {
        "id": "56Xxm7_zaEjq"
      },
      "source": [
        "### With optim"
      ]
    },
    {
      "cell_type": "code",
      "metadata": {
        "colab": {
          "base_uri": "https://localhost:8080/"
        },
        "id": "Y3b69nrQZ2aB",
        "outputId": "ee32de83-7c79-4ce9-d7c0-50bb702d78f4"
      },
      "source": [
        "x = torch.linspace(-math.pi, math.pi, 2000)\n",
        "y = torch.sin(x)\n",
        "# tensor (x, x^2, x^3).\n",
        "p = torch.tensor([1, 2, 3])\n",
        "xx = x.unsqueeze(-1).pow(p)\n",
        "print(xx.shape)"
      ],
      "execution_count": 144,
      "outputs": [
        {
          "output_type": "stream",
          "text": [
            "torch.Size([2000, 3])\n"
          ],
          "name": "stdout"
        }
      ]
    },
    {
      "cell_type": "code",
      "metadata": {
        "id": "ZmF_dtZGaSoH"
      },
      "source": [
        "\n",
        "model = torch.nn.Sequential(\n",
        "    torch.nn.Linear(3, 1),\n",
        "    torch.nn.Flatten(0, 1)\n",
        ")\n",
        "loss_fn = nn.MSELoss(reduction='sum')\n",
        "optimizer = torch.optim.RMSprop(model.parameters(), lr=1e-3)"
      ],
      "execution_count": 145,
      "outputs": []
    },
    {
      "cell_type": "code",
      "metadata": {
        "colab": {
          "base_uri": "https://localhost:8080/"
        },
        "id": "-ZVS_PBBajU7",
        "outputId": "bc979170-c3cd-4719-ae60-78d5d6081745"
      },
      "source": [
        "for t in range(2000):\n",
        "    y_pred = model(xx)\n",
        "    loss = loss_fn(y_pred, y)\n",
        "    if t % 199 == 0:\n",
        "        print(t, loss.item())\n",
        "    optimizer.zero_grad()\n",
        "    loss.backward()\n",
        "    optimizer.step()\n",
        "\n",
        "linear_layer = model[0]\n",
        "# For linear layer, its parameters are stored as `weight` and `bias`.\n",
        "print(f'Result: y = {linear_layer.bias.item()} + {linear_layer.weight[:, 0].item()} x + {linear_layer.weight[:, 1].item()} x^2 + {linear_layer.weight[:, 2].item()} x^3')"
      ],
      "execution_count": 146,
      "outputs": [
        {
          "output_type": "stream",
          "text": [
            "0 102821.90625\n",
            "199 22797.22265625\n",
            "398 4455.50390625\n",
            "597 347.97247314453125\n",
            "796 159.21556091308594\n",
            "995 111.15137481689453\n",
            "1194 52.173892974853516\n",
            "1393 16.764934539794922\n",
            "1592 9.023740768432617\n",
            "1791 8.832648277282715\n",
            "1990 9.103145599365234\n",
            "Result: y = 0.0005029881722293794 + 0.8571298122406006 x + 0.0005030100583098829 x^2 + -0.09291684627532959 x^3\n"
          ],
          "name": "stdout"
        }
      ]
    },
    {
      "cell_type": "code",
      "metadata": {
        "colab": {
          "base_uri": "https://localhost:8080/",
          "height": 282
        },
        "id": "WjrKFwyparzT",
        "outputId": "2be62413-8204-4ac7-de6f-9a615f85bc75"
      },
      "source": [
        "\n",
        "plt.plot(x, model(xx).detach().numpy(), 'b--')\n",
        "plt.plot(x, y, 'r-')"
      ],
      "execution_count": 147,
      "outputs": [
        {
          "output_type": "execute_result",
          "data": {
            "text/plain": [
              "[<matplotlib.lines.Line2D at 0x7fdb20939048>]"
            ]
          },
          "metadata": {
            "tags": []
          },
          "execution_count": 147
        },
        {
          "output_type": "display_data",
          "data": {
            "image/png": "[encoded data removed]",
            "text/plain": [
              "<Figure size 432x288 with 1 Axes>"
            ]
          },
          "metadata": {
            "tags": [],
            "needs_background": "light"
          }
        }
      ]
    },
    {
      "cell_type": "code",
      "metadata": {
        "id": "jWmNnX_Ua4CK"
      },
      "source": [
        ""
      ],
      "execution_count": null,
      "outputs": []
    }
  ]
}